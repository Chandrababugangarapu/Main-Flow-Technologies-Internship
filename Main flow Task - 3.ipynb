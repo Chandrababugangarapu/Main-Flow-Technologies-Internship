{
 "cells": [
  {
   "cell_type": "markdown",
   "id": "ecc4db63-542d-4112-a4ce-4044a521047b",
   "metadata": {},
   "source": [
    "# TASK -- 3"
   ]
  },
  {
   "cell_type": "markdown",
   "id": "93baca1e-dd4f-4bc8-a2af-629f25c76eb2",
   "metadata": {},
   "source": [
    "#Data Manipulation with pandas in Python"
   ]
  },
  {
   "cell_type": "code",
   "execution_count": 1,
   "id": "f8e84820-2f4f-4592-bdc4-30b168b29599",
   "metadata": {},
   "outputs": [
    {
     "name": "stderr",
     "output_type": "stream",
     "text": [
      "/home/rgukt/.local/lib/python3.10/site-packages/pandas/core/computation/expressions.py:21: UserWarning: Pandas requires version '2.8.4' or newer of 'numexpr' (version '2.8.1' currently installed).\n",
      "  from pandas.core.computation.check import NUMEXPR_INSTALLED\n",
      "/home/rgukt/.local/lib/python3.10/site-packages/pandas/core/arrays/masked.py:60: UserWarning: Pandas requires version '1.3.6' or newer of 'bottleneck' (version '1.3.2' currently installed).\n",
      "  from pandas.core import (\n"
     ]
    },
    {
     "name": "stdout",
     "output_type": "stream",
     "text": [
      "      Name  Age\n",
      "0    Alice   25\n",
      "1      Bob   30\n",
      "2  Charlie   22\n"
     ]
    }
   ],
   "source": [
    "# creating data frames using lists\n",
    "import pandas as pd\n",
    "\n",
    "data = {'Name': ['Alice', 'Bob', 'Charlie'], 'Age': [25, 30, 22]}\n",
    "df = pd.DataFrame(data)\n",
    "print(df)\n"
   ]
  },
  {
   "cell_type": "code",
   "execution_count": null,
   "id": "5460fcf5-e914-4de7-b466-cea3343ebb67",
   "metadata": {},
   "outputs": [],
   "source": []
  },
  {
   "cell_type": "markdown",
   "id": "65449407-f6e4-4235-968f-685fb96fd16b",
   "metadata": {},
   "source": []
  },
  {
   "cell_type": "code",
   "execution_count": 2,
   "id": "8256c316-6af1-41dc-91d3-9304569b0bca",
   "metadata": {},
   "outputs": [
    {
     "name": "stdout",
     "output_type": "stream",
     "text": [
      "          City  Population\n",
      "0     New York         8.4\n",
      "1  Los Angeles         3.9\n",
      "2      Chicago         2.7\n"
     ]
    }
   ],
   "source": [
    "# from dictionaries\n",
    "data = {'City': ['New York', 'Los Angeles', 'Chicago'], 'Population': [8.4, 3.9, 2.7]}\n",
    "df = pd.DataFrame(data)\n",
    "print(df)\n"
   ]
  },
  {
   "cell_type": "code",
   "execution_count": 4,
   "id": "d45195cd-0cd8-43ff-b587-db98a52beb5f",
   "metadata": {},
   "outputs": [
    {
     "name": "stdout",
     "output_type": "stream",
     "text": [
      "0       New York\n",
      "1    Los Angeles\n",
      "2        Chicago\n",
      "Name: City, dtype: object\n"
     ]
    }
   ],
   "source": [
    "# Accessing and Selecting Data\n",
    "# Column Selection:\n",
    "print(df['City'])  # Select the 'Name' column\n"
   ]
  },
  {
   "cell_type": "code",
   "execution_count": 5,
   "id": "f6a66ef0-46e1-448e-9f9d-df83f8b10378",
   "metadata": {},
   "outputs": [
    {
     "name": "stdout",
     "output_type": "stream",
     "text": [
      "City          Los Angeles\n",
      "Population            3.9\n",
      "Name: 1, dtype: object\n"
     ]
    }
   ],
   "source": [
    "# Row Selection by Index:\n",
    "print(df.iloc[1])  # Select the second row (index 1)\n"
   ]
  },
  {
   "cell_type": "code",
   "execution_count": 11,
   "id": "51fa9142-1954-4000-91c1-76e4941374f8",
   "metadata": {},
   "outputs": [
    {
     "name": "stdout",
     "output_type": "stream",
     "text": [
      "             Population\n",
      "City                   \n",
      "New York            8.4\n",
      "Los Angeles         3.9\n"
     ]
    }
   ],
   "source": [
    "# Boolean Indexing:\n",
    "filtered_df = df[df['Population'] > 3.0]  # Select rows where 'Age' is greater than 25\n",
    "print(filtered_df)\n"
   ]
  },
  {
   "cell_type": "code",
   "execution_count": 13,
   "id": "4bacd439-ca5f-4805-b433-a0f2ac28fc38",
   "metadata": {},
   "outputs": [
    {
     "name": "stdout",
     "output_type": "stream",
     "text": [
      "             Income\n",
      "City               \n",
      "New York     100000\n",
      "Los Angeles  120000\n",
      "Chicago       85000\n"
     ]
    }
   ],
   "source": [
    "# Data Transformation\n",
    "#Adding or Removing Columns:\n",
    "\n",
    "df['Income'] = [100000, 120000, 85000]  # Add a new column\n",
    "df.drop('Population', axis=1, inplace=True)   # Remove the 'City' column\n",
    "print(df)\n"
   ]
  },
  {
   "cell_type": "code",
   "execution_count": 14,
   "id": "4c8b1f17-f435-4737-bdd1-9ef0cf55c2a4",
   "metadata": {},
   "outputs": [
    {
     "name": "stdout",
     "output_type": "stream",
     "text": [
      "             Income\n",
      "City               \n",
      "New York     100000\n",
      "Los Angeles  120000\n",
      "Chicago       85000\n"
     ]
    }
   ],
   "source": [
    "#Renaming Columns:\n",
    "df.rename(columns={'Age': 'Years Old'}, inplace=True)\n",
    "print(df)\n"
   ]
  },
  {
   "cell_type": "code",
   "execution_count": 15,
   "id": "a21c66e3-461e-4225-980b-c5250912571a",
   "metadata": {},
   "outputs": [
    {
     "name": "stdout",
     "output_type": "stream",
     "text": [
      "             Income   Salary\n",
      "City                        \n",
      "New York     100000  75000.0\n",
      "Los Angeles  120000  90000.0\n",
      "Chicago       85000  63750.0\n"
     ]
    }
   ],
   "source": [
    "# Basic Math Operations (element-wise):\n",
    "df['Salary'] = df['Income'] * 0.75\n",
    "print(df)\n"
   ]
  },
  {
   "cell_type": "code",
   "execution_count": 17,
   "id": "1628f902-b389-4635-ac11-f89f8003da76",
   "metadata": {},
   "outputs": [
    {
     "name": "stdout",
     "output_type": "stream",
     "text": [
      "             Income   Salary  Discounted Income\n",
      "City                                           \n",
      "New York     100000  75000.0            90000.0\n",
      "Los Angeles  120000  90000.0           108000.0\n",
      "Chicago       85000  63750.0            76500.0\n"
     ]
    }
   ],
   "source": [
    "# Applying functions\n",
    "def discount(income):\n",
    "    return income * 0.9\n",
    "\n",
    "df['Discounted Income'] = df['Income'].apply(discount)\n",
    "print(df)\n"
   ]
  },
  {
   "cell_type": "code",
   "execution_count": 18,
   "id": "0fd02adc-8f01-41c4-8713-ff15ed37defe",
   "metadata": {},
   "outputs": [
    {
     "name": "stdout",
     "output_type": "stream",
     "text": [
      "              Income        Salary  Discounted Income\n",
      "count       3.000000      3.000000           3.000000\n",
      "mean   101666.666667  76250.000000       91500.000000\n",
      "std     17559.422921  13169.567191       15803.480629\n",
      "min     85000.000000  63750.000000       76500.000000\n",
      "25%     92500.000000  69375.000000       83250.000000\n",
      "50%    100000.000000  75000.000000       90000.000000\n",
      "75%    110000.000000  82500.000000       99000.000000\n",
      "max    120000.000000  90000.000000      108000.000000\n"
     ]
    }
   ],
   "source": [
    "# Data Analysis and Aggregation\n",
    "\n",
    "# Descriptive Statistics:\n",
    "print(df.describe())  # Summary statistics for numeric columns\n"
   ]
  },
  {
   "cell_type": "code",
   "execution_count": 20,
   "id": "28a26e25-b002-403f-a887-9d5885112ddc",
   "metadata": {},
   "outputs": [
    {
     "name": "stdout",
     "output_type": "stream",
     "text": [
      "         Salary  Discounted Income\n",
      "Income                            \n",
      "85000   63750.0            76500.0\n",
      "100000  75000.0            90000.0\n",
      "120000  90000.0           108000.0\n"
     ]
    }
   ],
   "source": [
    "# Group By\n",
    "grouped_df = df.groupby('Income').mean()  # Calculate mean for each age group\n",
    "print(grouped_df)\n"
   ]
  },
  {
   "cell_type": "code",
   "execution_count": 22,
   "id": "c1909ef7-38da-4bff-8900-a03338d1d642",
   "metadata": {},
   "outputs": [
    {
     "name": "stdout",
     "output_type": "stream",
     "text": [
      "             Income   Salary  Discounted Income\n",
      "City                                           \n",
      "Los Angeles  120000  90000.0           108000.0\n",
      "New York     100000  75000.0            90000.0\n",
      "Chicago       85000  63750.0            76500.0\n"
     ]
    }
   ],
   "source": [
    "# Sorting \n",
    "sorted_df = df.sort_values(by='Income', ascending=False)  # Sort by 'Income' (descending)\n",
    "print(sorted_df)\n"
   ]
  },
  {
   "cell_type": "code",
   "execution_count": null,
   "id": "3f2c89e7-6182-4279-add8-e1369babbfa6",
   "metadata": {},
   "outputs": [],
   "source": []
  }
 ],
 "metadata": {
  "kernelspec": {
   "display_name": "Python 3 (ipykernel)",
   "language": "python",
   "name": "python3"
  },
  "language_info": {
   "codemirror_mode": {
    "name": "ipython",
    "version": 3
   },
   "file_extension": ".py",
   "mimetype": "text/x-python",
   "name": "python",
   "nbconvert_exporter": "python",
   "pygments_lexer": "ipython3",
   "version": "3.10.12"
  }
 },
 "nbformat": 4,
 "nbformat_minor": 5
}
