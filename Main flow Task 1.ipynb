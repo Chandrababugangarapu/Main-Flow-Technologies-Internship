{
 "cells": [
  {
   "cell_type": "code",
   "execution_count": 1,
   "id": "d48baf83-096b-4457-846a-f5cf5fe8f1a9",
   "metadata": {},
   "outputs": [
    {
     "name": "stdout",
     "output_type": "stream",
     "text": [
      "Original list: ['apple', 'banana', 'cherry']\n",
      "List after adding orange: ['apple', 'banana', 'cherry', 'orange']\n",
      "List after replacing banana with mango: ['apple', 'mango', 'cherry', 'orange']\n",
      "List after removing cherry: ['apple', 'mango', 'orange']\n",
      "List after deletion: []\n"
     ]
    }
   ],
   "source": [
    "# write a python program to create a list, modify a list and delete a list.\n",
    "# Create a list of fruits\n",
    "fruits = [\"apple\", \"banana\", \"cherry\"]\n",
    "\n",
    "# Print the original list\n",
    "print(\"Original list:\", fruits)\n",
    "\n",
    "# Modify the list (add an element)\n",
    "fruits.append(\"orange\")\n",
    "\n",
    "# Print the modified list\n",
    "print(\"List after adding orange:\", fruits)\n",
    "\n",
    "# Modify the list (replace an element)\n",
    "fruits[1] = \"mango\"\n",
    "\n",
    "# Print the modified list\n",
    "print(\"List after replacing banana with mango:\", fruits)\n",
    "\n",
    "# Delete an element from the list (using remove())\n",
    "fruits.remove(\"cherry\")\n",
    "\n",
    "# Print the modified list\n",
    "print(\"List after removing cherry:\", fruits)\n",
    "\n",
    "# Delete the entire list (re-initialize)\n",
    "fruits = []\n",
    "\n",
    "# Print the deleted list (now empty)\n",
    "print(\"List after deletion:\", fruits)\n"
   ]
  },
  {
   "cell_type": "code",
   "execution_count": 2,
   "id": "a74a94d7-d296-4bd9-9708-1c9446ec9a13",
   "metadata": {},
   "outputs": [
    {
     "name": "stdout",
     "output_type": "stream",
     "text": [
      "Original set: {'orange', 'banana', 'apple'}\n",
      "Modified set: {'orange', 'grape', 'banana', 'apple'}\n",
      "Set after discard (if element existed): {'orange', 'grape', 'banana', 'apple'}\n",
      "Set after remove: {'orange', 'grape', 'apple'}\n"
     ]
    }
   ],
   "source": [
    "# write a python program to create a set, modify a set and delete a set \n",
    "# Create a set of fruits\n",
    "fruits = {\"apple\", \"banana\", \"orange\"}\n",
    "\n",
    "# Print the original set\n",
    "print(\"Original set:\", fruits)\n",
    "\n",
    "# Modify the set by adding a new element\n",
    "fruits.add(\"grape\")\n",
    "\n",
    "# Print the modified set\n",
    "print(\"Modified set:\", fruits)\n",
    "\n",
    "# Remove an element using discard (doesn't raise error if element not found)\n",
    "fruits.discard(\"cherry\")  # This line won't cause an error even if \"cherry\" isn't present\n",
    "\n",
    "# Print the set after discard (unchanged if element wasn't there)\n",
    "print(\"Set after discard (if element existed):\", fruits)\n",
    "\n",
    "# Remove an element using remove (raises error if element not found)\n",
    "fruits.remove(\"banana\")\n",
    "\n",
    "# Print the set after remove\n",
    "print(\"Set after remove:\", fruits)\n",
    "\n",
    "# Delete the set (set variable no longer refers to the set object)\n",
    "del fruits\n",
    "\n",
    "\n"
   ]
  },
  {
   "cell_type": "code",
   "execution_count": 3,
   "id": "4d5f9473-37bd-4799-b616-b721d1276a1d",
   "metadata": {},
   "outputs": [
    {
     "name": "stdout",
     "output_type": "stream",
     "text": [
      "Original dictionary: {'name': 'Alice', 'age': 30, 'city': 'New York'}\n",
      "Modified dictionary: {'name': 'Alice', 'age': 30, 'city': 'London', 'occupation': 'Software Engineer'}\n",
      "Dictionary after deletion: {'name': 'Alice', 'city': 'London'}\n",
      "Dictionary after clearing: {}\n"
     ]
    }
   ],
   "source": [
    "# write a python program to create a dictionary , modify a dictionary and delete a dictionary.\n",
    "# Create a dictionary\n",
    "my_dict = {\n",
    "  \"name\": \"Alice\",\n",
    "  \"age\": 30,\n",
    "  \"city\": \"New York\"\n",
    "}\n",
    "\n",
    "# Print the original dictionary\n",
    "print(\"Original dictionary:\", my_dict)\n",
    "\n",
    "# Modify the dictionary\n",
    "# Update an existing key-value pair\n",
    "my_dict[\"city\"] = \"London\"\n",
    "\n",
    "# Add a new key-value pair\n",
    "my_dict[\"occupation\"] = \"Software Engineer\"\n",
    "\n",
    "# Print the modified dictionary\n",
    "print(\"Modified dictionary:\", my_dict)\n",
    "\n",
    "# Delete a key-value pair from the dictionary\n",
    "# Using del keyword (raises KeyError if key not found)\n",
    "del my_dict[\"age\"]\n",
    "\n",
    "# Alternatively, use pop() method (returns the value)\n",
    "occupation = my_dict.pop(\"occupation\")\n",
    "\n",
    "# Print the dictionary after deletion\n",
    "print(\"Dictionary after deletion:\", my_dict)\n",
    "\n",
    "# Delete the entire dictionary (clear method)\n",
    "my_dict.clear()\n",
    "\n",
    "# Print the dictionary after clearing (empty)\n",
    "print(\"Dictionary after clearing:\", my_dict)\n"
   ]
  },
  {
   "cell_type": "code",
   "execution_count": null,
   "id": "d4642dd5-ddf6-4e6f-9ae8-bdfdf7abc41b",
   "metadata": {},
   "outputs": [],
   "source": []
  }
 ],
 "metadata": {
  "kernelspec": {
   "display_name": "Python 3 (ipykernel)",
   "language": "python",
   "name": "python3"
  },
  "language_info": {
   "codemirror_mode": {
    "name": "ipython",
    "version": 3
   },
   "file_extension": ".py",
   "mimetype": "text/x-python",
   "name": "python",
   "nbconvert_exporter": "python",
   "pygments_lexer": "ipython3",
   "version": "3.10.12"
  }
 },
 "nbformat": 4,
 "nbformat_minor": 5
}
